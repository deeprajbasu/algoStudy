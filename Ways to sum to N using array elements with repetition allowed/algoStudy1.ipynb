{
 "cells": [
  {
   "cell_type": "code",
   "execution_count": null,
   "id": "a350ffe9",
   "metadata": {},
   "outputs": [],
   "source": [
    "## number of Ways to sum to n using array elements with repetition allowed recursive\n",
    "\n",
    "\n",
    "def steps(n=0, arr = [1, 2, 3],count=[], i=1 ):\n",
    " \n",
    "    \n",
    "    \n",
    "    \n",
    "    if sum(count)==0:\n",
    "        count = [0 for i in range(n + 1)]\n",
    "        \n",
    "        count[0] = 1\n",
    "        \n",
    "    if count[n]!=0:\n",
    "        return count[n]\n",
    "        \n",
    "        \n",
    "    for j in range(3):\n",
    "\n",
    "        # if i >= arr[j] then\n",
    "        # accumulate count for value 'i' as\n",
    "        # ways to form value 'i-arr[j]'\n",
    "        if (i >= arr[j]):\n",
    "            count[i] += count[i - arr[j]]\n",
    "    return steps(n,arr,count,i+1)\n",
    "    \n",
    "     \n"
   ]
  }
 ],
 "metadata": {
  "kernelspec": {
   "display_name": "Python 3 (ipykernel)",
   "language": "python",
   "name": "python3"
  },
  "language_info": {
   "codemirror_mode": {
    "name": "ipython",
    "version": 3
   },
   "file_extension": ".py",
   "mimetype": "text/x-python",
   "name": "python",
   "nbconvert_exporter": "python",
   "pygments_lexer": "ipython3",
   "version": "3.8.10"
  }
 },
 "nbformat": 4,
 "nbformat_minor": 5
}
